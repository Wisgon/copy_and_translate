{
 "cells": [
  {
   "cell_type": "code",
   "execution_count": 1,
   "id": "66bd33bb",
   "metadata": {},
   "outputs": [],
   "source": [
    "import tkinter"
   ]
  },
  {
   "cell_type": "code",
   "execution_count": 3,
   "id": "3a8e1424",
   "metadata": {},
   "outputs": [],
   "source": [
    "from pymouse import PyMouse"
   ]
  },
  {
   "cell_type": "code",
   "execution_count": null,
   "id": "e2a38123",
   "metadata": {},
   "outputs": [],
   "source": []
  }
 ],
 "metadata": {
  "kernelspec": {
   "display_name": "ct",
   "language": "python",
   "name": "python3"
  },
  "language_info": {
   "codemirror_mode": {
    "name": "ipython",
    "version": 3
   },
   "file_extension": ".py",
   "mimetype": "text/x-python",
   "name": "python",
   "nbconvert_exporter": "python",
   "pygments_lexer": "ipython3",
   "version": "3.8.15"
  },
  "vscode": {
   "interpreter": {
    "hash": "066e4bf1425f132b423c2770a77293906b745bd20e885eafdb457403eef7ecc2"
   }
  }
 },
 "nbformat": 4,
 "nbformat_minor": 5
}
