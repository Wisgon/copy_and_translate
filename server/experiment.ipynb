{
 "cells": [
  {
   "cell_type": "code",
   "execution_count": 2,
   "id": "66bd33bb",
   "metadata": {},
   "outputs": [],
   "source": [
    "import requests"
   ]
  },
  {
   "cell_type": "code",
   "execution_count": 29,
   "id": "3a8e1424",
   "metadata": {},
   "outputs": [],
   "source": [
    "import pyperclip3 as pc"
   ]
  },
  {
   "cell_type": "code",
   "execution_count": 30,
   "id": "9a6b4df4",
   "metadata": {},
   "outputs": [],
   "source": [
    "pc.clear()"
   ]
  },
  {
   "cell_type": "code",
   "execution_count": 31,
   "id": "e2a38123",
   "metadata": {},
   "outputs": [
    {
     "data": {
      "text/plain": [
       "b''"
      ]
     },
     "execution_count": 31,
     "metadata": {},
     "output_type": "execute_result"
    }
   ],
   "source": [
    "pc.paste()"
   ]
  },
  {
   "cell_type": "code",
   "execution_count": 1,
   "id": "c71f7cc2",
   "metadata": {},
   "outputs": [],
   "source": [
    "import threading"
   ]
  },
  {
   "cell_type": "code",
   "execution_count": 4,
   "id": "5c54c20f",
   "metadata": {},
   "outputs": [],
   "source": [
    "import time"
   ]
  },
  {
   "cell_type": "code",
   "execution_count": 5,
   "id": "e44e67f4",
   "metadata": {},
   "outputs": [],
   "source": [
    "def test_thread_start_stop():\n",
    "    while True:\n",
    "        print(time.time())\n",
    "        time.sleep(3)"
   ]
  },
  {
   "cell_type": "code",
   "execution_count": 6,
   "id": "3bdee87f",
   "metadata": {},
   "outputs": [],
   "source": [
    "t1 = threading.Thread(target=test_thread_start_stop)"
   ]
  },
  {
   "cell_type": "code",
   "execution_count": 7,
   "id": "c5c73657",
   "metadata": {},
   "outputs": [
    {
     "name": "stdout",
     "output_type": "stream",
     "text": [
      "1672662553.2238781\n"
     ]
    },
    {
     "name": "stdout",
     "output_type": "stream",
     "text": [
      "1672662556.2264953\n",
      "1672662559.2298005\n"
     ]
    }
   ],
   "source": [
    "t1.start()"
   ]
  },
  {
   "cell_type": "code",
   "execution_count": 8,
   "id": "bb7359aa",
   "metadata": {},
   "outputs": [
    {
     "data": {
      "text/plain": [
       "True"
      ]
     },
     "execution_count": 8,
     "metadata": {},
     "output_type": "execute_result"
    },
    {
     "name": "stdout",
     "output_type": "stream",
     "text": [
      "1672662589.2544615\n",
      "1672662592.2576702\n"
     ]
    }
   ],
   "source": [
    "t1.is_alive()"
   ]
  },
  {
   "cell_type": "code",
   "execution_count": 9,
   "id": "e54272c1",
   "metadata": {},
   "outputs": [
    {
     "ename": "AttributeError",
     "evalue": "'Thread' object has no attribute 'stop'",
     "output_type": "error",
     "traceback": [
      "\u001b[0;31m---------------------------------------------------------------------------\u001b[0m",
      "\u001b[0;31mAttributeError\u001b[0m                            Traceback (most recent call last)",
      "Cell \u001b[0;32mIn[9], line 1\u001b[0m\n\u001b[0;32m----> 1\u001b[0m t1\u001b[39m.\u001b[39;49mstop()\n",
      "\u001b[0;31mAttributeError\u001b[0m: 'Thread' object has no attribute 'stop'"
     ]
    },
    {
     "name": "stdout",
     "output_type": "stream",
     "text": [
      "1672662601.267453\n",
      "1672662604.2708044\n",
      "1672662607.2739732\n",
      "1672662610.2746723\n",
      "1672662613.2779596\n",
      "1672662616.2811959\n",
      "1672662619.2823822\n",
      "1672662622.2855666\n",
      "1672662625.288878\n",
      "1672662628.2904048\n",
      "1672662631.2936838\n",
      "1672662634.296836\n",
      "1672662637.2991588\n",
      "1672662640.3023937\n",
      "1672662643.3056211\n",
      "1672662646.3064752\n",
      "1672662649.3085017\n",
      "1672662652.3104203\n",
      "1672662655.313551\n",
      "1672662658.3144372\n",
      "1672662661.3176384\n",
      "1672662664.3184228\n",
      "1672662667.3215852\n",
      "1672662670.3247726\n"
     ]
    }
   ],
   "source": [
    "t1.ki"
   ]
  }
 ],
 "metadata": {
  "kernelspec": {
   "display_name": "easy_tran",
   "language": "python",
   "name": "python3"
  },
  "language_info": {
   "codemirror_mode": {
    "name": "ipython",
    "version": 3
   },
   "file_extension": ".py",
   "mimetype": "text/x-python",
   "name": "python",
   "nbconvert_exporter": "python",
   "pygments_lexer": "ipython3",
   "version": "3.8.15"
  },
  "vscode": {
   "interpreter": {
    "hash": "6797498919b21c37b83ba9f19fa986ebb7afc59cc5a9bd43927f02da6be0382b"
   }
  }
 },
 "nbformat": 4,
 "nbformat_minor": 5
}
