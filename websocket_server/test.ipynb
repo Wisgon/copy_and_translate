{
 "cells": [
  {
   "cell_type": "code",
   "execution_count": 2,
   "id": "66bd33bb",
   "metadata": {},
   "outputs": [],
   "source": [
    "import requests"
   ]
  },
  {
   "cell_type": "code",
   "execution_count": 29,
   "id": "3a8e1424",
   "metadata": {},
   "outputs": [],
   "source": [
    "import pyperclip3 as pc"
   ]
  },
  {
   "cell_type": "code",
   "execution_count": 30,
   "id": "9a6b4df4",
   "metadata": {},
   "outputs": [],
   "source": [
    "pc.clear()"
   ]
  },
  {
   "cell_type": "code",
   "execution_count": 31,
   "id": "e2a38123",
   "metadata": {},
   "outputs": [
    {
     "data": {
      "text/plain": [
       "b''"
      ]
     },
     "execution_count": 31,
     "metadata": {},
     "output_type": "execute_result"
    }
   ],
   "source": [
    "pc.paste()"
   ]
  },
  {
   "cell_type": "code",
   "execution_count": null,
   "id": "c71f7cc2",
   "metadata": {},
   "outputs": [],
   "source": []
  }
 ],
 "metadata": {
  "kernelspec": {
   "display_name": "easy_tran",
   "language": "python",
   "name": "python3"
  },
  "language_info": {
   "codemirror_mode": {
    "name": "ipython",
    "version": 3
   },
   "file_extension": ".py",
   "mimetype": "text/x-python",
   "name": "python",
   "nbconvert_exporter": "python",
   "pygments_lexer": "ipython3",
   "version": "3.10.8 (main, Nov 24 2022, 14:13:03) [GCC 11.2.0]"
  },
  "vscode": {
   "interpreter": {
    "hash": "6797498919b21c37b83ba9f19fa986ebb7afc59cc5a9bd43927f02da6be0382b"
   }
  }
 },
 "nbformat": 4,
 "nbformat_minor": 5
}
